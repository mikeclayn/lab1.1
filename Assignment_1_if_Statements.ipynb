name = input("Ener your name :").strip().capitalize()
if name == "Mike":
    print( "Hello, Mike! The password is : W@12")
else:
    print("Hello, {}! See you later.".format(name))
